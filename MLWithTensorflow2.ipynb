{
  "nbformat": 4,
  "nbformat_minor": 0,
  "metadata": {
    "colab": {
      "name": "MLWithTensorflow2.ipynb",
      "provenance": [],
      "collapsed_sections": [],
      "toc_visible": true,
      "include_colab_link": true
    },
    "kernelspec": {
      "name": "python3",
      "display_name": "Python 3"
    },
    "accelerator": "GPU"
  },
  "cells": [
    {
      "cell_type": "markdown",
      "metadata": {
        "id": "view-in-github",
        "colab_type": "text"
      },
      "source": [
        "<a href=\"https://colab.research.google.com/github/DivyaThakur24/Tensorflow/blob/master/MLWithTensorflow2.ipynb\" target=\"_parent\"><img src=\"https://colab.research.google.com/assets/colab-badge.svg\" alt=\"Open In Colab\"/></a>"
      ]
    },
    {
      "cell_type": "markdown",
      "metadata": {
        "id": "96lwY9OZhzUz",
        "colab_type": "text"
      },
      "source": [
        "#Traditional Programming"
      ]
    },
    {
      "cell_type": "markdown",
      "metadata": {
        "id": "E7Kr05GFhw0M",
        "colab_type": "text"
      },
      "source": [
        "---\n",
        "\n",
        "> > > > > >  **Equation --> y = 2.5 * x + 3**\n",
        "\n",
        "|    x    |   -10   |   -5     |    0    |   2    |  100  |    50     | \n",
        "|---------|----------|-----------|---------|---------|------------|---------|\n",
        "|    y    |   -22   |  -9.5   |    3    |    8   |  253  |  126.5 |\n",
        "\n",
        "---"
      ]
    },
    {
      "cell_type": "code",
      "metadata": {
        "id": "dNvDTTwmh_Dn",
        "colab_type": "code",
        "colab": {}
      },
      "source": [
        "x = -10"
      ],
      "execution_count": 0,
      "outputs": []
    },
    {
      "cell_type": "code",
      "metadata": {
        "id": "KngjDWEve7ZP",
        "colab_type": "code",
        "colab": {}
      },
      "source": [
        "y = 2.5 * x + 3"
      ],
      "execution_count": 0,
      "outputs": []
    },
    {
      "cell_type": "code",
      "metadata": {
        "id": "T5Khl1JUQ1wI",
        "colab_type": "code",
        "colab": {}
      },
      "source": [
        "print(\"x = {} , y = {}\".format(x, y))"
      ],
      "execution_count": 0,
      "outputs": []
    },
    {
      "cell_type": "markdown",
      "metadata": {
        "id": "RTOb9OI7iWBa",
        "colab_type": "text"
      },
      "source": [
        "# Machine Learning with Tensorflow"
      ]
    },
    {
      "cell_type": "markdown",
      "metadata": {
        "id": "aM06IeJHhpTe",
        "colab_type": "text"
      },
      "source": [
        "\n",
        "---\n",
        "\n",
        "\n",
        "\n",
        "> > > > > >  **Equation --> y = 2.5 * x + 3**\n",
        "\n",
        "|    x    |   -10   |   -5     |    0    |   2    |  100  |    50     | \n",
        "|---------|----------|-----------|---------|---------|------------|---------|\n",
        "|    y    |   -22   |  -9.5   |    3    |    8   |  253  |  126.5 |\n",
        "\n",
        "---\n"
      ]
    },
    {
      "cell_type": "markdown",
      "metadata": {
        "id": "QOyGKKyDe-Dg",
        "colab_type": "text"
      },
      "source": [
        "  <center>\n",
        "  \n",
        "  <img src=\"https://3qeqpr26caki16dnhd19sv6by6v-wpengine.netdna-ssl.com/wp-content/uploads/2016/07/5-Step-Life-Cycle-for-Neural-Network-Models-in-Keras.png\" width=\"150px\" />\n",
        "\n",
        "</center>"
      ]
    },
    {
      "cell_type": "code",
      "metadata": {
        "id": "vGSGXOHkfAXD",
        "colab_type": "code",
        "colab": {}
      },
      "source": [
        "import tensorflow as tf\n",
        "import numpy as np\n",
        "tf.logging.set_verbosity(tf.logging.ERROR)"
      ],
      "execution_count": 0,
      "outputs": []
    },
    {
      "cell_type": "code",
      "metadata": {
        "id": "v8fa7wy3iq8q",
        "colab_type": "code",
        "colab": {}
      },
      "source": [
        "x = np.array([-10, -5, 0,  2, 100], dtype=float)\n",
        "y = np.array([-22, -9.5, 3, 8, 253], dtype=float)"
      ],
      "execution_count": 0,
      "outputs": []
    },
    {
      "cell_type": "code",
      "metadata": {
        "id": "Vkj8UoDgfOvX",
        "colab_type": "code",
        "colab": {}
      },
      "source": [
        "print(\"x = {}, y={}\".format(x, y))"
      ],
      "execution_count": 0,
      "outputs": []
    },
    {
      "cell_type": "markdown",
      "metadata": {
        "id": "Z_FcZSKE5I_i",
        "colab_type": "text"
      },
      "source": [
        "<center>\n",
        "\n",
        "<img src=\"https://upload.wikimedia.org/wikipedia/commons/thumb/9/99/Neural_network_example.svg/220px-Neural_network_example.svg.png\"/>\n",
        "\n",
        "</center>"
      ]
    },
    {
      "cell_type": "code",
      "metadata": {
        "id": "vzxpnShCjDQR",
        "colab_type": "code",
        "colab": {}
      },
      "source": [
        "layer = tf.keras.layers.Dense(units=1, input_shape=[1])"
      ],
      "execution_count": 0,
      "outputs": []
    },
    {
      "cell_type": "markdown",
      "metadata": {
        "id": "V8IiwyH4jWu2",
        "colab_type": "text"
      },
      "source": [
        "###Define the Model"
      ]
    },
    {
      "cell_type": "markdown",
      "metadata": {
        "id": "WvOglXvsWSR2",
        "colab_type": "text"
      },
      "source": [
        "<img src=\"https://miro.medium.com/max/1800/1*WP0sqq0uyq_bCGZJQTAb2g.png\" width=650 />\n",
        "\n"
      ]
    },
    {
      "cell_type": "code",
      "metadata": {
        "id": "ivo9X-TfjUbA",
        "colab_type": "code",
        "colab": {}
      },
      "source": [
        "model = tf.keras.Sequential([layer])"
      ],
      "execution_count": 0,
      "outputs": []
    },
    {
      "cell_type": "markdown",
      "metadata": {
        "id": "4x6dJs8YjxlN",
        "colab_type": "text"
      },
      "source": [
        "###Compile the Model"
      ]
    },
    {
      "cell_type": "code",
      "metadata": {
        "id": "Sg4sHtNYjYaM",
        "colab_type": "code",
        "colab": {}
      },
      "source": [
        "model.compile(loss='mean_squared_error', \n",
        "              optimizer=tf.keras.optimizers.Adam(0.1))"
      ],
      "execution_count": 0,
      "outputs": []
    },
    {
      "cell_type": "markdown",
      "metadata": {
        "id": "9MVNCGI6kEnM",
        "colab_type": "text"
      },
      "source": [
        "###Train the Model (Fit Network)"
      ]
    },
    {
      "cell_type": "code",
      "metadata": {
        "id": "XnC5KCPejq2r",
        "colab_type": "code",
        "colab": {}
      },
      "source": [
        "train = model.fit(x, y,epochs=100, verbose=False)"
      ],
      "execution_count": 0,
      "outputs": []
    },
    {
      "cell_type": "markdown",
      "metadata": {
        "id": "j9VK9zYpkkFI",
        "colab_type": "text"
      },
      "source": [
        "###Evaluate the Model"
      ]
    },
    {
      "cell_type": "code",
      "metadata": {
        "id": "jkSXImRijrCy",
        "colab_type": "code",
        "colab": {}
      },
      "source": [
        "import matplotlib.pyplot as plt\n",
        "plt.plot(train.history['loss'])"
      ],
      "execution_count": 0,
      "outputs": []
    },
    {
      "cell_type": "markdown",
      "metadata": {
        "id": "94kqW73ukyk9",
        "colab_type": "text"
      },
      "source": [
        "###Test the Model(Make Predictions)"
      ]
    },
    {
      "cell_type": "code",
      "metadata": {
        "id": "hlAqqr1wk3_z",
        "colab_type": "code",
        "colab": {}
      },
      "source": [
        "model.predict([50])"
      ],
      "execution_count": 0,
      "outputs": []
    },
    {
      "cell_type": "code",
      "metadata": {
        "id": "MW6Pt7rzk_eh",
        "colab_type": "code",
        "colab": {}
      },
      "source": [
        "layer.get_weights()"
      ],
      "execution_count": 0,
      "outputs": []
    },
    {
      "cell_type": "code",
      "metadata": {
        "id": "UgTmKrB5d91A",
        "colab_type": "code",
        "colab": {}
      },
      "source": [
        ""
      ],
      "execution_count": 0,
      "outputs": []
    }
  ]
}